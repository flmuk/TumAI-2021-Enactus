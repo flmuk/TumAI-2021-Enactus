{
 "cells": [
  {
   "cell_type": "markdown",
   "id": "9701487e-3178-41e6-8f99-49c02d9108af",
   "metadata": {},
   "source": [
    "# Model 1 District -> Crop"
   ]
  },
  {
   "cell_type": "code",
   "execution_count": 6,
   "id": "d6dc2e6a-ae40-4cf8-84c4-bdf2be5822d9",
   "metadata": {},
   "outputs": [],
   "source": [
    "import tensorflow_decision_forests as tfdf\n",
    "import pandas as pd\n",
    "import numpy as np\n",
    "import tensorflow as tf"
   ]
  },
  {
   "cell_type": "code",
   "execution_count": 68,
   "id": "0f715a9e-a168-4cec-b6ab-06b5772b5a69",
   "metadata": {},
   "outputs": [],
   "source": [
    "dataset_df = pd.read_csv(\"districts_vs_crops.csv\")\n",
    "#dataset_df.rename(columns = {'index':'dist', '0':\"crop\"}, inplace = True)\n",
    "dataset_df = dataset_df.drop(['Unnamed: 0'], axis=1)"
   ]
  },
  {
   "cell_type": "code",
   "execution_count": 69,
   "id": "9643a9d4-4852-4f4f-95f6-d3274a05e295",
   "metadata": {},
   "outputs": [
    {
     "data": {
      "text/html": [
       "<div>\n",
       "<style scoped>\n",
       "    .dataframe tbody tr th:only-of-type {\n",
       "        vertical-align: middle;\n",
       "    }\n",
       "\n",
       "    .dataframe tbody tr th {\n",
       "        vertical-align: top;\n",
       "    }\n",
       "\n",
       "    .dataframe thead th {\n",
       "        text-align: right;\n",
       "    }\n",
       "</style>\n",
       "<table border=\"1\" class=\"dataframe\">\n",
       "  <thead>\n",
       "    <tr style=\"text-align: right;\">\n",
       "      <th></th>\n",
       "      <th>dist</th>\n",
       "      <th>crop</th>\n",
       "    </tr>\n",
       "  </thead>\n",
       "  <tbody>\n",
       "    <tr>\n",
       "      <th>0</th>\n",
       "      <td>24 PARAGANAS NORTH</td>\n",
       "      <td>Coconut</td>\n",
       "    </tr>\n",
       "    <tr>\n",
       "      <th>1</th>\n",
       "      <td>24 PARAGANAS SOUTH</td>\n",
       "      <td>Coconut</td>\n",
       "    </tr>\n",
       "    <tr>\n",
       "      <th>2</th>\n",
       "      <td>ADILABAD</td>\n",
       "      <td>Sugarcane</td>\n",
       "    </tr>\n",
       "    <tr>\n",
       "      <th>3</th>\n",
       "      <td>AGAR MALWA</td>\n",
       "      <td>Sugarcane</td>\n",
       "    </tr>\n",
       "    <tr>\n",
       "      <th>4</th>\n",
       "      <td>AGRA</td>\n",
       "      <td>Sugarcane</td>\n",
       "    </tr>\n",
       "    <tr>\n",
       "      <th>...</th>\n",
       "      <td>...</td>\n",
       "      <td>...</td>\n",
       "    </tr>\n",
       "    <tr>\n",
       "      <th>641</th>\n",
       "      <td>YADGIR</td>\n",
       "      <td>Sugarcane</td>\n",
       "    </tr>\n",
       "    <tr>\n",
       "      <th>642</th>\n",
       "      <td>YAMUNANAGAR</td>\n",
       "      <td>Sugarcane</td>\n",
       "    </tr>\n",
       "    <tr>\n",
       "      <th>643</th>\n",
       "      <td>YANAM</td>\n",
       "      <td>Coconut</td>\n",
       "    </tr>\n",
       "    <tr>\n",
       "      <th>644</th>\n",
       "      <td>YAVATMAL</td>\n",
       "      <td>Sugarcane</td>\n",
       "    </tr>\n",
       "    <tr>\n",
       "      <th>645</th>\n",
       "      <td>ZUNHEBOTO</td>\n",
       "      <td>Sugarcane</td>\n",
       "    </tr>\n",
       "  </tbody>\n",
       "</table>\n",
       "<p>646 rows × 2 columns</p>\n",
       "</div>"
      ],
      "text/plain": [
       "                   dist       crop\n",
       "0    24 PARAGANAS NORTH   Coconut \n",
       "1    24 PARAGANAS SOUTH   Coconut \n",
       "2              ADILABAD  Sugarcane\n",
       "3            AGAR MALWA  Sugarcane\n",
       "4                  AGRA  Sugarcane\n",
       "..                  ...        ...\n",
       "641              YADGIR  Sugarcane\n",
       "642         YAMUNANAGAR  Sugarcane\n",
       "643               YANAM   Coconut \n",
       "644            YAVATMAL  Sugarcane\n",
       "645           ZUNHEBOTO  Sugarcane\n",
       "\n",
       "[646 rows x 2 columns]"
      ]
     },
     "execution_count": 69,
     "metadata": {},
     "output_type": "execute_result"
    }
   ],
   "source": [
    "dataset_df"
   ]
  },
  {
   "cell_type": "code",
   "execution_count": 29,
   "id": "67f9e2df-980b-437d-b5bd-07c1614b8237",
   "metadata": {},
   "outputs": [
    {
     "data": {
      "text/plain": [
       "array(['24 PARAGANAS NORTH', '24 PARAGANAS SOUTH', 'ADILABAD',\n",
       "       'AGAR MALWA', 'AGRA', 'AHMADABAD', 'AHMEDNAGAR', 'AIZAWL', 'AJMER',\n",
       "       'AKOLA'], dtype=object)"
      ]
     },
     "execution_count": 29,
     "metadata": {},
     "output_type": "execute_result"
    }
   ],
   "source": [
    "dataset_df[\"dist\"].unique()[:10]"
   ]
  },
  {
   "cell_type": "code",
   "execution_count": 72,
   "id": "4e45f1a4-db61-4056-8c50-59861497322f",
   "metadata": {},
   "outputs": [
    {
     "data": {
      "text/plain": [
       "array(['Coconut ', 'Sugarcane', 'Banana', 'Tapioca', 'Potato', 'Papaya',\n",
       "       'Barley', 'Tobacco', 'Onion', 'Pineapple', 'Dry chillies',\n",
       "       'Sweet potato', 'Maize', 'Other Vegetables', 'Rice', 'Dry ginger'],\n",
       "      dtype=object)"
      ]
     },
     "execution_count": 72,
     "metadata": {},
     "output_type": "execute_result"
    }
   ],
   "source": [
    "dataset_df[label].unique()"
   ]
  },
  {
   "cell_type": "markdown",
   "id": "46d21cb3-bc20-4584-9335-e82c61d4ba68",
   "metadata": {},
   "source": [
    "## train a model to that but thats optional"
   ]
  },
  {
   "cell_type": "code",
   "execution_count": 73,
   "id": "b2001417-a497-4061-8450-270f73877f7a",
   "metadata": {},
   "outputs": [
    {
     "name": "stdout",
     "output_type": "stream",
     "text": [
      "(646, 2)\n"
     ]
    }
   ],
   "source": [
    "dataset_np = dataset_df.to_numpy()\n",
    "print(dataset_np.shape)"
   ]
  },
  {
   "cell_type": "code",
   "execution_count": 74,
   "id": "a451afb5-5d1c-4629-b300-579bec5cb0c1",
   "metadata": {},
   "outputs": [
    {
     "name": "stdout",
     "output_type": "stream",
     "text": [
      "(646, 1)\n"
     ]
    }
   ],
   "source": [
    "cfeat = dataset_np[:,:1]\n",
    "print(cfeat.shape)\n",
    "clabels = dataset_np[:,1]"
   ]
  },
  {
   "cell_type": "code",
   "execution_count": 75,
   "id": "452af2a1-d37d-4961-acb4-3f13d471dc37",
   "metadata": {},
   "outputs": [],
   "source": [
    "le_labels = preprocessing.LabelEncoder()\n",
    "le_labels.fit(list(set(clabels)))\n",
    "clabels = le_labels.transform(clabels)\n",
    "\n",
    "le_feats = preprocessing.LabelEncoder()\n",
    "le_feats.fit(cfeat[:, 0])\n",
    "cfeats = le_feats.transform(cfeat)\n",
    "\n",
    "X_train, X_test, y_train, y_test = train_test_split(\n",
    "cfeats, clabels, test_size=0.33, random_state=42)"
   ]
  },
  {
   "cell_type": "code",
   "execution_count": 76,
   "id": "2dd68850-33f2-478e-8f76-a1fbbf91427c",
   "metadata": {},
   "outputs": [
    {
     "data": {
      "text/plain": [
       "(432,)"
      ]
     },
     "execution_count": 76,
     "metadata": {},
     "output_type": "execute_result"
    }
   ],
   "source": [
    "y_train.shape"
   ]
  },
  {
   "cell_type": "code",
   "execution_count": 77,
   "id": "09ccacc9-596f-4a57-97b5-76d145ec9599",
   "metadata": {},
   "outputs": [
    {
     "data": {
      "text/plain": [
       "RandomForestClassifier(max_depth=20, random_state=0)"
      ]
     },
     "execution_count": 77,
     "metadata": {},
     "output_type": "execute_result"
    }
   ],
   "source": [
    "clf = RandomForestClassifier(max_depth=20, random_state=0)\n",
    "clf.fit(X_train[:, np.newaxis], y_train)"
   ]
  },
  {
   "cell_type": "code",
   "execution_count": 78,
   "id": "270a51e6-dcee-4183-ac59-f057fa048b95",
   "metadata": {},
   "outputs": [
    {
     "data": {
      "text/plain": [
       "0.9976851851851852"
      ]
     },
     "execution_count": 78,
     "metadata": {},
     "output_type": "execute_result"
    }
   ],
   "source": [
    "clf.score(X_train[:, np.newaxis], y_train)"
   ]
  },
  {
   "cell_type": "markdown",
   "id": "929f14d7-2ac2-49bc-9bbc-6d59d4177f14",
   "metadata": {},
   "source": [
    "## Add in epected yield per harvest in rupies "
   ]
  },
  {
   "cell_type": "code",
   "execution_count": 79,
   "id": "0fda686f-af96-45dc-ab18-5521f1d7b425",
   "metadata": {},
   "outputs": [
    {
     "data": {
      "text/html": [
       "<div>\n",
       "<style scoped>\n",
       "    .dataframe tbody tr th:only-of-type {\n",
       "        vertical-align: middle;\n",
       "    }\n",
       "\n",
       "    .dataframe tbody tr th {\n",
       "        vertical-align: top;\n",
       "    }\n",
       "\n",
       "    .dataframe thead th {\n",
       "        text-align: right;\n",
       "    }\n",
       "</style>\n",
       "<table border=\"1\" class=\"dataframe\">\n",
       "  <thead>\n",
       "    <tr style=\"text-align: right;\">\n",
       "      <th></th>\n",
       "      <th>dist</th>\n",
       "      <th>crop</th>\n",
       "    </tr>\n",
       "  </thead>\n",
       "  <tbody>\n",
       "    <tr>\n",
       "      <th>0</th>\n",
       "      <td>24 PARAGANAS NORTH</td>\n",
       "      <td>Coconut</td>\n",
       "    </tr>\n",
       "    <tr>\n",
       "      <th>1</th>\n",
       "      <td>24 PARAGANAS SOUTH</td>\n",
       "      <td>Coconut</td>\n",
       "    </tr>\n",
       "    <tr>\n",
       "      <th>2</th>\n",
       "      <td>ADILABAD</td>\n",
       "      <td>Sugarcane</td>\n",
       "    </tr>\n",
       "    <tr>\n",
       "      <th>3</th>\n",
       "      <td>AGAR MALWA</td>\n",
       "      <td>Sugarcane</td>\n",
       "    </tr>\n",
       "    <tr>\n",
       "      <th>4</th>\n",
       "      <td>AGRA</td>\n",
       "      <td>Sugarcane</td>\n",
       "    </tr>\n",
       "    <tr>\n",
       "      <th>...</th>\n",
       "      <td>...</td>\n",
       "      <td>...</td>\n",
       "    </tr>\n",
       "    <tr>\n",
       "      <th>641</th>\n",
       "      <td>YADGIR</td>\n",
       "      <td>Sugarcane</td>\n",
       "    </tr>\n",
       "    <tr>\n",
       "      <th>642</th>\n",
       "      <td>YAMUNANAGAR</td>\n",
       "      <td>Sugarcane</td>\n",
       "    </tr>\n",
       "    <tr>\n",
       "      <th>643</th>\n",
       "      <td>YANAM</td>\n",
       "      <td>Coconut</td>\n",
       "    </tr>\n",
       "    <tr>\n",
       "      <th>644</th>\n",
       "      <td>YAVATMAL</td>\n",
       "      <td>Sugarcane</td>\n",
       "    </tr>\n",
       "    <tr>\n",
       "      <th>645</th>\n",
       "      <td>ZUNHEBOTO</td>\n",
       "      <td>Sugarcane</td>\n",
       "    </tr>\n",
       "  </tbody>\n",
       "</table>\n",
       "<p>646 rows × 2 columns</p>\n",
       "</div>"
      ],
      "text/plain": [
       "                   dist       crop\n",
       "0    24 PARAGANAS NORTH   Coconut \n",
       "1    24 PARAGANAS SOUTH   Coconut \n",
       "2              ADILABAD  Sugarcane\n",
       "3            AGAR MALWA  Sugarcane\n",
       "4                  AGRA  Sugarcane\n",
       "..                  ...        ...\n",
       "641              YADGIR  Sugarcane\n",
       "642         YAMUNANAGAR  Sugarcane\n",
       "643               YANAM   Coconut \n",
       "644            YAVATMAL  Sugarcane\n",
       "645           ZUNHEBOTO  Sugarcane\n",
       "\n",
       "[646 rows x 2 columns]"
      ]
     },
     "execution_count": 79,
     "metadata": {},
     "output_type": "execute_result"
    }
   ],
   "source": [
    "dataset_df"
   ]
  },
  {
   "cell_type": "code",
   "execution_count": null,
   "id": "eaf238c7-ed72-43de-9a1c-10a75e82e473",
   "metadata": {},
   "outputs": [],
   "source": []
  },
  {
   "cell_type": "markdown",
   "id": "d5496815-a4cf-4feb-8038-d363bff29f63",
   "metadata": {},
   "source": [
    "# Model 2 Climate Soil -> Crop"
   ]
  },
  {
   "cell_type": "code",
   "execution_count": 7,
   "id": "2e8e3e2c-57b7-4aad-9403-f33ebf31f9db",
   "metadata": {},
   "outputs": [],
   "source": [
    "from sklearn import preprocessing\n",
    "from sklearn import feature_extraction\n",
    "from sklearn.model_selection import train_test_split\n",
    "from sklearn import preprocessing\n",
    "from sklearn.ensemble import RandomForestClassifier"
   ]
  },
  {
   "cell_type": "code",
   "execution_count": 8,
   "id": "481665e4-fa4e-40e9-8207-88acf1ea7ef9",
   "metadata": {},
   "outputs": [],
   "source": [
    "croprec = pd.read_csv(\"/home/f/F.Kiessler/makeathon/data_india/crop_recommendation_dataset/Crop_recommendation.csv\")"
   ]
  },
  {
   "cell_type": "code",
   "execution_count": 9,
   "id": "873facba-998c-4775-9da9-5a0a8338a626",
   "metadata": {},
   "outputs": [
    {
     "name": "stdout",
     "output_type": "stream",
     "text": [
      "(2200, 8)\n"
     ]
    }
   ],
   "source": [
    "crop_npy = croprec.to_numpy()\n",
    "print(crop_npy.shape)"
   ]
  },
  {
   "cell_type": "code",
   "execution_count": 10,
   "id": "626e273f-026d-45aa-bd31-bacb0e4356de",
   "metadata": {},
   "outputs": [
    {
     "name": "stdout",
     "output_type": "stream",
     "text": [
      "(2200, 7)\n"
     ]
    }
   ],
   "source": [
    "cfeat = crop_npy[:,:7]\n",
    "print(cfeat.shape)\n",
    "clabels = crop_npy[:,7]"
   ]
  },
  {
   "cell_type": "code",
   "execution_count": 11,
   "id": "85b24bc7-1a87-465e-97ad-2f0e12358041",
   "metadata": {},
   "outputs": [],
   "source": [
    "le_labels = preprocessing.LabelEncoder()\n",
    "le_labels.fit(list(set(clabels)))\n",
    "clabels = le_labels.transform(clabels)\n",
    "\n",
    "X_train, X_test, y_train, y_test = train_test_split(\n",
    "cfeat, clabels, test_size=0.33, random_state=42)"
   ]
  },
  {
   "cell_type": "code",
   "execution_count": 12,
   "id": "449fff77-bc25-4d11-afdc-e08d775035e4",
   "metadata": {},
   "outputs": [
    {
     "data": {
      "text/plain": [
       "RandomForestClassifier(max_depth=20, random_state=0)"
      ]
     },
     "execution_count": 12,
     "metadata": {},
     "output_type": "execute_result"
    }
   ],
   "source": [
    "clf = RandomForestClassifier(max_depth=20, random_state=0)\n",
    "clf.fit(X_train, y_train)"
   ]
  },
  {
   "cell_type": "code",
   "execution_count": 13,
   "id": "03c5db8a-0d6c-4227-a1bc-63070d203f48",
   "metadata": {},
   "outputs": [
    {
     "data": {
      "text/plain": [
       "0.9931129476584022"
      ]
     },
     "execution_count": 13,
     "metadata": {},
     "output_type": "execute_result"
    }
   ],
   "source": [
    "clf.score(X_test, y_test)"
   ]
  },
  {
   "cell_type": "code",
   "execution_count": 14,
   "id": "69590a71-e21c-44b2-92bb-908707cecaaf",
   "metadata": {},
   "outputs": [
    {
     "data": {
      "text/plain": [
       "array([81, 16, 45, 26.90435747, 86.25426228, 6.727468157000001,\n",
       "       59.75980023], dtype=object)"
      ]
     },
     "execution_count": 14,
     "metadata": {},
     "output_type": "execute_result"
    }
   ],
   "source": [
    "X_train[0]"
   ]
  },
  {
   "cell_type": "code",
   "execution_count": 15,
   "id": "3e5f28e9-8186-4b8d-b58d-c58a1038f565",
   "metadata": {},
   "outputs": [
    {
     "data": {
      "text/plain": [
       "array([15])"
      ]
     },
     "execution_count": 15,
     "metadata": {},
     "output_type": "execute_result"
    }
   ],
   "source": [
    "pred = clf.predict(np.array([[83, 30, 40, 23, 90, 5, 30]]))"
   ]
  },
  {
   "cell_type": "code",
   "execution_count": 17,
   "id": "d16d1970-5d59-48a2-8163-792730828e71",
   "metadata": {},
   "outputs": [
    {
     "data": {
      "text/plain": [
       "array(['muskmelon'], dtype='<U11')"
      ]
     },
     "execution_count": 17,
     "metadata": {},
     "output_type": "execute_result"
    }
   ],
   "source": [
    "le_labels.inverse_transform([15])\n"
   ]
  },
  {
   "cell_type": "markdown",
   "id": "95fd1766-4af8-4cab-b179-a11cc964e66b",
   "metadata": {},
   "source": [
    "# Centroids model: (latitude, longitude)->Best Crop"
   ]
  },
  {
   "cell_type": "code",
   "execution_count": 92,
   "id": "4d295da0-fbac-4436-b45b-b53f1b616140",
   "metadata": {},
   "outputs": [],
   "source": [
    "import matplotlib.pyplot as plt"
   ]
  },
  {
   "cell_type": "code",
   "execution_count": 18,
   "id": "53211247-1ce5-4a31-af09-18d9d49fb471",
   "metadata": {},
   "outputs": [],
   "source": [
    "LatLonCrop = pd.read_csv(\"/home/f/F.Kiessler/makeathon/data_india/dist_lat_long_crop_eff.csv\")"
   ]
  },
  {
   "cell_type": "code",
   "execution_count": 45,
   "id": "103de397-518e-4575-9db1-733f0db8a15f",
   "metadata": {},
   "outputs": [
    {
     "name": "stdout",
     "output_type": "stream",
     "text": [
      "[[7.835290749774195 93.5116012375786 'Coconut ']\n",
      " [19.284513950073435 78.81321233480176 'Sugarcane']\n",
      " [14.312065561843148 77.4601584478577 'Coconut ']\n",
      " ...\n",
      " [22.06238845067688 88.87793960802345 'Coconut ']\n",
      " [23.254192328767108 86.3968532876713 'Coconut ']\n",
      " [21.854427507266063 88.44536970827778 'Coconut ']]\n"
     ]
    }
   ],
   "source": [
    "crop_npy = LatLonCrop[[\"Latitude\", \"Longitude\",\"Crop\"]].to_numpy()\n",
    "print(crop_npy)"
   ]
  },
  {
   "cell_type": "code",
   "execution_count": 46,
   "id": "0e714e88-1fa2-4c35-993b-c515fe71a358",
   "metadata": {},
   "outputs": [
    {
     "name": "stdout",
     "output_type": "stream",
     "text": [
      "(558, 2)\n"
     ]
    },
    {
     "data": {
      "text/plain": [
       "(558,)"
      ]
     },
     "execution_count": 46,
     "metadata": {},
     "output_type": "execute_result"
    }
   ],
   "source": [
    "cfeat = crop_npy[:,:2]\n",
    "print(cfeat.shape)\n",
    "clabels = crop_npy[:,2]\n",
    "clabels.shape"
   ]
  },
  {
   "cell_type": "code",
   "execution_count": 47,
   "id": "9da198db-0bc5-4759-a014-e4efce38ac5a",
   "metadata": {},
   "outputs": [],
   "source": [
    "le_labels = preprocessing.LabelEncoder()\n",
    "le_labels.fit(list(set(clabels)))\n",
    "clabels_int = le_labels.transform(clabels)\n",
    "\n",
    "X_train, X_test, y_train, y_test = train_test_split(\n",
    "cfeat, clabels_int, test_size=0.33, random_state=42)"
   ]
  },
  {
   "cell_type": "code",
   "execution_count": 85,
   "id": "1f7472e6-cb42-45f4-a96f-30603d780ed3",
   "metadata": {},
   "outputs": [
    {
     "data": {
      "text/plain": [
       "RandomForestClassifier(max_depth=8, random_state=0)"
      ]
     },
     "execution_count": 85,
     "metadata": {},
     "output_type": "execute_result"
    }
   ],
   "source": [
    "clf = RandomForestClassifier(max_depth=8, random_state=0)\n",
    "clf.fit(X_train, y_train)"
   ]
  },
  {
   "cell_type": "code",
   "execution_count": 87,
   "id": "352b1675-af5c-42c1-a100-ccc11e831588",
   "metadata": {},
   "outputs": [
    {
     "data": {
      "text/plain": [
       "array([25.33959557069844, 92.37608160136298], dtype=object)"
      ]
     },
     "execution_count": 87,
     "metadata": {},
     "output_type": "execute_result"
    }
   ],
   "source": [
    "X_train[0]"
   ]
  },
  {
   "cell_type": "code",
   "execution_count": 88,
   "id": "4b17b963-5236-4630-9adc-c1e5bb2e3404",
   "metadata": {},
   "outputs": [
    {
     "data": {
      "text/plain": [
       "array([2])"
      ]
     },
     "execution_count": 88,
     "metadata": {},
     "output_type": "execute_result"
    }
   ],
   "source": [
    "clf.predict(np.array([[25.21,92.24]]))"
   ]
  },
  {
   "cell_type": "code",
   "execution_count": 89,
   "id": "ff2f18c8-55ce-456e-84b7-b0a91c62ca53",
   "metadata": {},
   "outputs": [
    {
     "data": {
      "text/plain": [
       "array(['Tapioca'], dtype='<U16')"
      ]
     },
     "execution_count": 89,
     "metadata": {},
     "output_type": "execute_result"
    }
   ],
   "source": [
    "le_labels.inverse_transform([13])\n"
   ]
  }
 ],
 "metadata": {
  "kernelspec": {
   "display_name": "Python 3",
   "language": "python",
   "name": "python3"
  },
  "language_info": {
   "codemirror_mode": {
    "name": "ipython",
    "version": 3
   },
   "file_extension": ".py",
   "mimetype": "text/x-python",
   "name": "python",
   "nbconvert_exporter": "python",
   "pygments_lexer": "ipython3",
   "version": "3.9.5"
  }
 },
 "nbformat": 4,
 "nbformat_minor": 5
}
