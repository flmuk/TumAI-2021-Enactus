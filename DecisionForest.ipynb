{
 "cells": [
  {
   "cell_type": "code",
   "execution_count": null,
   "id": "7fb82bd4-93ec-4d6b-b513-cefaff42477d",
   "metadata": {},
   "outputs": [],
   "source": [
    "import tensorflow_decision_forests as tfdf\n",
    "import pandas as pd\n",
    "import wbdapi as wb"
   ]
  },
  {
   "cell_type": "code",
   "execution_count": null,
   "id": "2e3877fc-2f8b-4a50-9ede-5ec1103920ec",
   "metadata": {},
   "outputs": [],
   "source": []
  },
  {
   "cell_type": "code",
   "execution_count": null,
   "id": "9ac2ade6-afd8-4c0a-b4c0-43bc171aeb96",
   "metadata": {},
   "outputs": [],
   "source": [
    "# Load a dataset in a Pandas dataframe.\n",
    "train_df = pd.read_csv(\"project/train.csv\")\n",
    "test_df = pd.read_csv(\"project/test.csv\")\n",
    "\n",
    "# Convert the dataset into a TensorFlow dataset.\n",
    "train_ds = tfdf.keras.pd_dataframe_to_tf_dataset(train_df, label=\"my_label\")\n",
    "test_ds = tfdf.keras.pd_dataframe_to_tf_dataset(test_df, label=\"my_label\")"
   ]
  },
  {
   "cell_type": "code",
   "execution_count": null,
   "id": "abd9f035-8273-4b5a-bd74-66335f5fb6da",
   "metadata": {},
   "outputs": [],
   "source": [
    "# Train a Random Forest model.\n",
    "model = tfdf.keras.RandomForestModel()\n",
    "model.fit(train_ds)\n",
    "\n",
    "# Summary of the model structure.\n",
    "model.summary()\n",
    "\n",
    "# Evaluate the model.\n",
    "model.evaluate(test_ds)\n",
    "\n",
    "# Export the model to a SavedModel.\n",
    "model.save(\"project/model\")"
   ]
  }
 ],
 "metadata": {
  "kernelspec": {
   "display_name": "Python 3",
   "language": "python",
   "name": "python3"
  },
  "language_info": {
   "codemirror_mode": {
    "name": "ipython",
    "version": 3
   },
   "file_extension": ".py",
   "mimetype": "text/x-python",
   "name": "python",
   "nbconvert_exporter": "python",
   "pygments_lexer": "ipython3",
   "version": "3.9.5"
  }
 },
 "nbformat": 4,
 "nbformat_minor": 5
}
